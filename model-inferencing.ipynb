{
 "cells": [
  {
   "cell_type": "code",
   "execution_count": 1,
   "metadata": {},
   "outputs": [],
   "source": [
    "model_path = \"./model/medium-tech\""
   ]
  },
  {
   "cell_type": "code",
   "execution_count": 3,
   "metadata": {},
   "outputs": [],
   "source": [
    "from transformers import AutoTokenizer, AutoModelForCausalLM\n",
    "import torch"
   ]
  },
  {
   "cell_type": "code",
   "execution_count": 2,
   "metadata": {},
   "outputs": [
    {
     "name": "stderr",
     "output_type": "stream",
     "text": [
      "/home/codespace/.python/current/lib/python3.10/site-packages/tqdm/auto.py:22: TqdmWarning: IProgress not found. Please update jupyter and ipywidgets. See https://ipywidgets.readthedocs.io/en/stable/user_install.html\n",
      "  from .autonotebook import tqdm as notebook_tqdm\n"
     ]
    }
   ],
   "source": [
    "ft_tokenizer = AutoTokenizer.from_pretrained(model_path)\n",
    "ft_model = AutoModelForCausalLM.from_pretrained(model_path)"
   ]
  },
  {
   "cell_type": "code",
   "execution_count": 4,
   "metadata": {},
   "outputs": [],
   "source": [
    "text = \"Today, technology is\""
   ]
  },
  {
   "cell_type": "code",
   "execution_count": 6,
   "metadata": {},
   "outputs": [
    {
     "name": "stdout",
     "output_type": "stream",
     "text": [
      "Today, technology is technology. We have all the infrastructure, the communications systems, and the software for making decisions. The internet is becoming the internet of the future.\n",
      "\n",
      "Even if the US economy does be completely autonomous, it will be almost impossible to create and distribute millions of jobs. Despite technology having so much more than a technical infrastructure in this area, it still lacks the right to have its government oversee the economy. According to data scientists at the United States government, there will be no\n"
     ]
    }
   ],
   "source": [
    "ft_input_ids = ft_tokenizer.encode(text, return_tensors='pt')\n",
    "\n",
    "output = ft_model.generate(ft_input_ids, attention_mask = torch.ones_like(ft_input_ids), pad_token_id=ft_tokenizer.eos_token_id,\n",
    "                              max_length=100, do_sample=True)# num_beams=2, no_repeat_ngram_size=3, early_stopping=False)\n",
    "\n",
    "print(ft_tokenizer.decode(output[0], skip_special_tokens=True))"
   ]
  }
 ],
 "metadata": {
  "kernelspec": {
   "display_name": "Python 3",
   "language": "python",
   "name": "python3"
  },
  "language_info": {
   "codemirror_mode": {
    "name": "ipython",
    "version": 3
   },
   "file_extension": ".py",
   "mimetype": "text/x-python",
   "name": "python",
   "nbconvert_exporter": "python",
   "pygments_lexer": "ipython3",
   "version": "3.10.4"
  },
  "orig_nbformat": 4,
  "vscode": {
   "interpreter": {
    "hash": "3ad933181bd8a04b432d3370b9dc3b0662ad032c4dfaa4e4f1596c548f763858"
   }
  }
 },
 "nbformat": 4,
 "nbformat_minor": 2
}
